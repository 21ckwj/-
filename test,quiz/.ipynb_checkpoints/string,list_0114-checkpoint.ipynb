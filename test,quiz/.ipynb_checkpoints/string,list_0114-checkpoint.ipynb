{
 "cells": [
  {
   "cell_type": "markdown",
   "id": "b75a11f6",
   "metadata": {},
   "source": [
    "### string,list 오답노트"
   ]
  },
  {
   "cell_type": "markdown",
   "id": "53dc3d54",
   "metadata": {},
   "source": [
    "string"
   ]
  },
  {
   "cell_type": "code",
   "execution_count": 2,
   "id": "d10a6c2a",
   "metadata": {},
   "outputs": [],
   "source": [
    "txt1 = ' A tale that was not right '\n",
    "txt2 = '이 또한 지나가리라 '"
   ]
  },
  {
   "cell_type": "code",
   "execution_count": 3,
   "id": "45b146af",
   "metadata": {},
   "outputs": [
    {
     "name": "stdout",
     "output_type": "stream",
     "text": [
      "7\n"
     ]
    }
   ],
   "source": [
    "#4.txt1에서 모음의 갯수는 몇 개인가?\n",
    "cnt =0\n",
    "for c in txt1:\n",
    "    if c in \"aeiouAEIOU\":\n",
    "        cnt +=1\n",
    "print(cnt)"
   ]
  },
  {
   "cell_type": "code",
   "execution_count": null,
   "id": "ab38f34b",
   "metadata": {},
   "outputs": [],
   "source": [
    "#14.\n",
    "log = 'name : 홍길동, age: 17, sex: 남성, nation: 대한민국'\n",
    "아래와 같이 출력하시오\n",
    "\n",
    "# name=> '홍길동'\n",
    "# age=> 17\n",
    "# sex=> 남성\n",
    "\n",
    "log = log.split(\"\")\n"
   ]
  },
  {
   "cell_type": "code",
   "execution_count": 22,
   "id": "4c44864c",
   "metadata": {},
   "outputs": [
    {
     "data": {
      "text/plain": [
       "[(0, ' '),\n",
       " (1, 'A'),\n",
       " (2, ' '),\n",
       " (3, 't'),\n",
       " (4, 'a'),\n",
       " (5, 'l'),\n",
       " (6, 'e'),\n",
       " (7, ' '),\n",
       " (8, 't'),\n",
       " (9, 'h'),\n",
       " (10, 'a'),\n",
       " (11, 't'),\n",
       " (12, ' '),\n",
       " (13, 'w'),\n",
       " (14, 'a'),\n",
       " (15, 's'),\n",
       " (16, ' '),\n",
       " (17, 'n'),\n",
       " (18, 'o'),\n",
       " (19, 't'),\n",
       " (20, ' '),\n",
       " (21, 'r'),\n",
       " (22, 'i'),\n",
       " (23, 'g'),\n",
       " (24, 'h'),\n",
       " (25, 't'),\n",
       " (26, ' ')]"
      ]
     },
     "execution_count": 22,
     "metadata": {},
     "output_type": "execute_result"
    }
   ],
   "source": [
    "#txt1의 문자를 index와 튜플로 묶어서 리스트에 담으시오\n",
    "lst = []\n",
    "for i,v in enumerate(txt1):\n",
    "    lst.append((i,v))\n",
    "lst\n",
    "\n",
    "# append 로 튜플을 리스트에 넣을 수 있는 지 의문이었지만\n",
    "# 리스트에 추가하는 거면 종류 상관없이 가능\n",
    "    "
   ]
  },
  {
   "cell_type": "markdown",
   "id": "ca3b0fea",
   "metadata": {},
   "source": [
    "list"
   ]
  },
  {
   "cell_type": "code",
   "execution_count": 16,
   "id": "31997e2a",
   "metadata": {},
   "outputs": [],
   "source": [
    "score = [81, 90, 78, 'python', 'hello', True, [78, 56, 32], (24,25,3) ]"
   ]
  },
  {
   "cell_type": "code",
   "execution_count": 17,
   "id": "695e71cb",
   "metadata": {},
   "outputs": [
    {
     "data": {
      "text/plain": [
       "[81, 90, 78, 'world', 'hello', True, [78, 56, 32], (24, 25, 3)]"
      ]
     },
     "execution_count": 17,
     "metadata": {},
     "output_type": "execute_result"
    }
   ],
   "source": [
    "# 'python'을 'world'로 수정하시오\n",
    "indx = score.index('python')\n",
    "score[indx] = 'world'\n",
    "score"
   ]
  },
  {
   "cell_type": "code",
   "execution_count": 18,
   "id": "57645674",
   "metadata": {},
   "outputs": [
    {
     "data": {
      "text/plain": [
       "[81, 90, 78, 'world', 'hello', False, [78, 56, 32], (24, 25, 3)]"
      ]
     },
     "execution_count": 18,
     "metadata": {},
     "output_type": "execute_result"
    }
   ],
   "source": [
    "# True 를 False로 수정하시오\n",
    "indxT = score.index(True)  # 문자열인지 아닌지 판단하고 index함수에 대입 :'True'(x)\n",
    "score[indxT] = False   \n",
    "score"
   ]
  },
  {
   "cell_type": "code",
   "execution_count": 19,
   "id": "ab10123b",
   "metadata": {},
   "outputs": [],
   "source": [
    "# 'world'를 제거하시오\n",
    "# del score[3] 혹은\n",
    "score.remove('world')  #인덱스 몰라도 처음 나오는 'world' 제거 가능"
   ]
  },
  {
   "cell_type": "code",
   "execution_count": 20,
   "id": "a00ff6ca",
   "metadata": {},
   "outputs": [
    {
     "data": {
      "text/plain": [
       "[81, 90, 78, 'hello', False, '78:56:32', (24, 25, 3)]"
      ]
     },
     "execution_count": 20,
     "metadata": {},
     "output_type": "execute_result"
    }
   ],
   "source": [
    "#[78,56,32]를 78:56:32로 수정하시오\n",
    "\n",
    "#[78,56,32]의 인덱스 찾기\n",
    "num = [78,56,32]\n",
    "indx = score.index(num) # 인덱스 = 5\n",
    "\n",
    "# join 함수를 쓰기 위해 리스트 원소를 문자열로 바꿔야 함\n",
    "score[indx]=[\"78\",\"56\",\"32\"]   # score[5] = [\"78\",\"56\",\"32\"]\n",
    "\n",
    "# join 함수 사용 :로 연결시켜 리스트 값 변경\n",
    "score[indx] = \":\".join(score[indx])\n",
    "score\n",
    "\n"
   ]
  },
  {
   "cell_type": "code",
   "execution_count": null,
   "id": "74ae7a6a",
   "metadata": {},
   "outputs": [],
   "source": []
  }
 ],
 "metadata": {
  "kernelspec": {
   "display_name": "Python 3 (ipykernel)",
   "language": "python",
   "name": "python3"
  },
  "language_info": {
   "codemirror_mode": {
    "name": "ipython",
    "version": 3
   },
   "file_extension": ".py",
   "mimetype": "text/x-python",
   "name": "python",
   "nbconvert_exporter": "python",
   "pygments_lexer": "ipython3",
   "version": "3.9.7"
  }
 },
 "nbformat": 4,
 "nbformat_minor": 5
}
