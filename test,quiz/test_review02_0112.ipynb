{
 "cells": [
  {
   "cell_type": "markdown",
   "metadata": {},
   "source": [
    "> For 문"
   ]
  },
  {
   "cell_type": "code",
   "execution_count": 12,
   "metadata": {},
   "outputs": [
    {
     "name": "stdout",
     "output_type": "stream",
     "text": [
      "(0, 'p')\n",
      "(1, 'y')\n",
      "(2, 't')\n",
      "(3, 'h')\n",
      "(4, 'o')\n",
      "(5, 'n')\n",
      "(6, ' ')\n",
      "(7, 'i')\n",
      "(8, 's')\n",
      "(9, ' ')\n",
      "(10, 'f')\n",
      "(11, 'u')\n",
      "(12, 'n')\n"
     ]
    }
   ],
   "source": [
    "# text = 'python is fun'\n",
    "# text의 character를 모음만 대문자로 전환해서 출력하세요. 참고) 영어모음 = ‘aeiou’\n",
    "# 위의 text의 문자를 index와 함께 출력하시오.\n",
    "\n",
    "text = 'python is fun'\n",
    "list=[]\n",
    "for s in text:\n",
    "    if s in 'aeiou':\n",
    "        list.append(s.upper())\n",
    "list\n",
    "\n",
    "for i in enumerate(text):\n",
    "    print(i)\n",
    "\n",
    "\n",
    "\n"
   ]
  },
  {
   "cell_type": "code",
   "execution_count": 1,
   "metadata": {},
   "outputs": [
    {
     "name": "stdout",
     "output_type": "stream",
     "text": [
      "3\n",
      "4\n",
      "5\n",
      "6\n"
     ]
    }
   ],
   "source": [
    "# 1~10까지 정수를 출력하는 while문에서 \n",
    "# continue와 break를 이용해서 3,4,5,6만 출력하도록 하시오.\n",
    "\n",
    "# count= 1\n",
    "# while count< 10:\n",
    "#     if count < 3:\n",
    "#         continue\n",
    "#     print(count)\n",
    "\n",
    "#     if count > 7:\n",
    "#         break\n",
    "\n",
    "count = 0\n",
    "\n",
    "while count < 10:\n",
    "    count += 1\n",
    "    if count < 3:\n",
    "        continue\n",
    "    if count > 6:\n",
    "        break\n",
    "    print(count)\n",
    "    \n"
   ]
  },
  {
   "cell_type": "code",
   "execution_count": null,
   "metadata": {},
   "outputs": [],
   "source": [
    "# x = ['a','b','c','d','e'], y = ['가','나','다','라','마'] 두 리스트의 원소들의 모든 조합을\n",
    "#  아래와 같이 출력하시오. \n",
    "# => [('a','가'), ('a','나'), ('a', '다') ... ('e','라'), ('e', '마')]"
   ]
  },
  {
   "cell_type": "code",
   "execution_count": 17,
   "metadata": {},
   "outputs": [
    {
     "name": "stdout",
     "output_type": "stream",
     "text": [
      "cmuainltikn"
     ]
    }
   ],
   "source": [
    "# computational thinking에서 홀수인덱스만 리스트에 담으세요\n",
    "text = \"computational thinking\"\n",
    "for i in range(0,len(text),2):\n",
    "    print(text[i], end='')\n"
   ]
  },
  {
   "cell_type": "code",
   "execution_count": 15,
   "metadata": {},
   "outputs": [
    {
     "name": "stdout",
     "output_type": "stream",
     "text": [
      "(0, 'h')\n",
      "(1, 'e')\n",
      "(2, 'l')\n",
      "(3, 'l')\n",
      "(4, 'o')\n",
      "(5, ' ')\n",
      "(6, 'w')\n",
      "(7, 'o')\n",
      "(8, 'r')\n",
      "(9, 'l')\n",
      "(10, 'd')\n"
     ]
    }
   ],
   "source": [
    "# text = 'hello world'에서 각 문자를 인덱스와 함께 튜플로 묶어서 출력\n",
    "# (0, 'h'), (1, 'e') ...\n",
    "text = 'hello world'\n",
    "for i in enumerate(text):\n",
    "    print(i)\n",
    "    # print(\"index: {}, value= {}\".format(i,v))"
   ]
  }
 ],
 "metadata": {
  "interpreter": {
   "hash": "8931d08a56ba8ec5bd4013e6d6c9066a90d099ecd0b9731835efa4c48cf46a24"
  },
  "kernelspec": {
   "display_name": "Python 3 (ipykernel)",
   "language": "python",
   "name": "python3"
  },
  "language_info": {
   "codemirror_mode": {
    "name": "ipython",
    "version": 3
   },
   "file_extension": ".py",
   "mimetype": "text/x-python",
   "name": "python",
   "nbconvert_exporter": "python",
   "pygments_lexer": "ipython3",
   "version": "3.9.7"
  }
 },
 "nbformat": 4,
 "nbformat_minor": 2
}
