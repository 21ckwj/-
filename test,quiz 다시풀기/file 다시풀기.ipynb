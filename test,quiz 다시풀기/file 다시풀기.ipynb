{
 "cells": [
  {
   "cell_type": "markdown",
   "id": "20b276a4",
   "metadata": {},
   "source": [
    "### 파일 다시풀기"
   ]
  },
  {
   "cell_type": "code",
   "execution_count": 3,
   "id": "7bc72f4b",
   "metadata": {},
   "outputs": [
    {
     "data": {
      "text/plain": [
       "'C:\\\\KDT4\\\\training\\\\test,quiz 다시풀기'"
      ]
     },
     "execution_count": 3,
     "metadata": {},
     "output_type": "execute_result"
    }
   ],
   "source": [
    "pwd"
   ]
  },
  {
   "cell_type": "code",
   "execution_count": null,
   "id": "4c8aa405",
   "metadata": {},
   "outputs": [],
   "source": [
    "# ban.txt 를 열어서 내용을 dict로 저장하시오."
   ]
  },
  {
   "cell_type": "code",
   "execution_count": 10,
   "id": "f1dcc5a2",
   "metadata": {},
   "outputs": [
    {
     "data": {
      "text/plain": [
       "{'2': '45', '4': '39', '1': '41', '3': '40'}"
      ]
     },
     "execution_count": 10,
     "metadata": {},
     "output_type": "execute_result"
    }
   ],
   "source": [
    "# 상대 경로를 이용하여 다른 파일에 있는 데이터 가져오기\n",
    "f= open('../../fintech/python/python_data_files/ban.txt','r')\n",
    "\n",
    "lines = f.readlines()\n",
    "f.close()\n",
    "d = {}\n",
    "# lines\n",
    "for line in lines:\n",
    "     d[line.split()[0]] = line.split()[1]\n",
    "d\n",
    "    "
   ]
  },
  {
   "cell_type": "code",
   "execution_count": null,
   "id": "bcf7a4aa",
   "metadata": {},
   "outputs": [],
   "source": [
    "# ban_student.txt 를 열어서 내용을 dict로 저장하시오.\n",
    "# {'2': ['Alice Paul David Bob'], '3': ['John Joe Tom']}...}"
   ]
  },
  {
   "cell_type": "code",
   "execution_count": null,
   "id": "6008058d",
   "metadata": {},
   "outputs": [],
   "source": [
    "f = open(\"\",'r')\n",
    "text = f.readlines()\n",
    "f.close()\n",
    "\n",
    "for c in text:\n",
    "    name = c.split('')"
   ]
  },
  {
   "cell_type": "code",
   "execution_count": null,
   "id": "9bdadb45",
   "metadata": {},
   "outputs": [],
   "source": [
    "# 'stockcode.txt' 에서 모든 코드번호와 종목명을 출력하시오."
   ]
  },
  {
   "cell_type": "code",
   "execution_count": null,
   "id": "c4d8ba84",
   "metadata": {},
   "outputs": [],
   "source": []
  },
  {
   "cell_type": "code",
   "execution_count": null,
   "id": "ecaae412",
   "metadata": {},
   "outputs": [],
   "source": [
    "# 종목명에 '건설'이 포함된 종목명과 코드번호를 출력."
   ]
  },
  {
   "cell_type": "code",
   "execution_count": null,
   "id": "dbcb0a6f",
   "metadata": {},
   "outputs": [],
   "source": []
  },
  {
   "cell_type": "code",
   "execution_count": null,
   "id": "3b0f975e",
   "metadata": {},
   "outputs": [],
   "source": [
    "#문자열을 입력받은 후 이를 파일에 기록하는 코드를 작성하시오."
   ]
  },
  {
   "cell_type": "code",
   "execution_count": null,
   "id": "1a58c78d",
   "metadata": {},
   "outputs": [],
   "source": []
  },
  {
   "cell_type": "code",
   "execution_count": null,
   "id": "53d6bcaa",
   "metadata": {},
   "outputs": [],
   "source": [
    "# stockcode.txt 파일을 복사해서 stockcode_copy.txt 파일을 만드시오"
   ]
  },
  {
   "cell_type": "code",
   "execution_count": null,
   "id": "ccade78c",
   "metadata": {},
   "outputs": [],
   "source": []
  },
  {
   "cell_type": "code",
   "execution_count": null,
   "id": "e7c8d2a1",
   "metadata": {},
   "outputs": [],
   "source": [
    "# 'bird-2695678_1920.jpg' 파일을 복사해서 'bird_copy.jpg' 파일을 만드시오."
   ]
  },
  {
   "cell_type": "code",
   "execution_count": null,
   "id": "424469da",
   "metadata": {},
   "outputs": [],
   "source": []
  },
  {
   "cell_type": "code",
   "execution_count": null,
   "id": "1692acb8",
   "metadata": {},
   "outputs": [],
   "source": [
    "news = '''\n",
    "이재명 겨냥 \"아수라, 조폭이 시정 휘두르면서 살인 범죄\"\n",
    "조폭 연루 의혹을 받는 이재명 더불어민주당 후보도 겨냥했다. 권 본부장은 \"어제 이 후보가 영화를 좋아한다고 했는데 저도 영화를 좋아한다. 조폭 나오는 영화를 좋아하는데 그런 영화를 보면 조폭들이 나라 정책을 좌지우지하는 영화가 있다\"며 \"(영화) '아수라'의 경우 조폭들이 전면적으로 (개입해) 안남시(영화 속 무대), 성남시랑 이름이 비슷한데 시정을 제멋대로 휘두르는 과정에서 살인 범죄를 서슴지 않는 영화가 있다\"고 말했다.\n",
    "이어 \"21세기 우리 대한민국은 반도체, 자동차 강국으로 세계 경제 10위권에 들어가는 나라\"라며 \"그런 나라에서 조폭이 국정에 개입하거나 청와대에 드나드는 나라가 돼선 안 된다\"고 밝혔다.\n",
    "'''\n",
    "\n",
    "# 단어를 입력받은 후 해당 단어가 news에서 몇 번 등장했는지 리턴하는 함수"
   ]
  },
  {
   "cell_type": "code",
   "execution_count": null,
   "id": "6d62ee9f",
   "metadata": {},
   "outputs": [],
   "source": []
  },
  {
   "cell_type": "code",
   "execution_count": 1,
   "id": "56792e36",
   "metadata": {},
   "outputs": [],
   "source": [
    "### 점프 투 파이썬"
   ]
  },
  {
   "cell_type": "code",
   "execution_count": null,
   "id": "b9ac3b91",
   "metadata": {},
   "outputs": [],
   "source": []
  }
 ],
 "metadata": {
  "kernelspec": {
   "display_name": "Python 3 (ipykernel)",
   "language": "python",
   "name": "python3"
  },
  "language_info": {
   "codemirror_mode": {
    "name": "ipython",
    "version": 3
   },
   "file_extension": ".py",
   "mimetype": "text/x-python",
   "name": "python",
   "nbconvert_exporter": "python",
   "pygments_lexer": "ipython3",
   "version": "3.9.7"
  }
 },
 "nbformat": 4,
 "nbformat_minor": 5
}
